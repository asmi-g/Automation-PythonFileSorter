{
 "cells": [
  {
   "cell_type": "markdown",
   "id": "9b13ed78",
   "metadata": {},
   "source": [
    "# Automated File Sorter [Python]"
   ]
  },
  {
   "cell_type": "code",
   "execution_count": 61,
   "id": "7b19c017",
   "metadata": {},
   "outputs": [],
   "source": [
    "import os, shutil"
   ]
  },
  {
   "cell_type": "code",
   "execution_count": 62,
   "id": "a12dd73b",
   "metadata": {},
   "outputs": [],
   "source": [
    "path = r\"C:/Users/asmig/dev-projects/ds/Python Automated File Sorter/Sample Folder/\""
   ]
  },
  {
   "cell_type": "code",
   "execution_count": 63,
   "id": "5af10f84",
   "metadata": {},
   "outputs": [
    {
     "name": "stdout",
     "output_type": "stream",
     "text": [
      "['JupiterJPEG.jpg', 'JupiterPNG.png', 'SampleTXT.txt', 'SampleXLSX.xlsx']\n"
     ]
    }
   ],
   "source": [
    "# Shows which files are in the above path\n",
    "file_name = os.listdir(path)\n",
    "print(file_name)"
   ]
  },
  {
   "cell_type": "code",
   "execution_count": 64,
   "id": "f0f1b8ff",
   "metadata": {},
   "outputs": [
    {
     "name": "stdout",
     "output_type": "stream",
     "text": [
      "C:/Users/asmig/dev-projects/ds/Python Automated File Sorter/Sample Folder/JPEG Files has been created\n",
      "C:/Users/asmig/dev-projects/ds/Python Automated File Sorter/Sample Folder/PNG Files has been created\n",
      "C:/Users/asmig/dev-projects/ds/Python Automated File Sorter/Sample Folder/TXT Files has been created\n",
      "C:/Users/asmig/dev-projects/ds/Python Automated File Sorter/Sample Folder/XLSX Files has been created\n"
     ]
    }
   ],
   "source": [
    "# Create a list of folder names to separate files into\n",
    "folder_names = ['JPEG Files','PNG Files','TXT Files', 'XLSX Files']\n",
    "file_type = ['.jpg', '.png','.txt','.xlsx']\n",
    "\n",
    "# Loop through the above list. If those folders from the above list don't already exist, create them in the path in cell #3\n",
    "for i in range(0,4):\n",
    "    if not os.path.exists(path + folder_names[i]):\n",
    "        os.makedirs(path + folder_names[i])\n",
    "        print(path + folder_names[i] + \" has been created\")"
   ]
  },
  {
   "cell_type": "code",
   "execution_count": 65,
   "id": "6303cd4c",
   "metadata": {},
   "outputs": [
    {
     "name": "stdout",
     "output_type": "stream",
     "text": [
      "C:/Users/asmig/dev-projects/ds/Python Automated File Sorter/Sample Folder/JupiterJPEG.jpg has been moved\n",
      "C:/Users/asmig/dev-projects/ds/Python Automated File Sorter/Sample Folder/JupiterPNG.png has been moved\n",
      "C:/Users/asmig/dev-projects/ds/Python Automated File Sorter/Sample Folder/SampleTXT.txt has been moved\n",
      "C:/Users/asmig/dev-projects/ds/Python Automated File Sorter/Sample Folder/SampleXLSX.xlsx has been moved\n"
     ]
    }
   ],
   "source": [
    "# Loop through the files in the directory of the path in cell #3. If the type of that file (i.e .xlsx) is in the file path,\n",
    "# but that specific file is not already in the file folder (i.e XLSX Files), put it there\n",
    "for file in file_name:\n",
    "    for i in range(0,4):\n",
    "        if file_type[i] in file and not os.path.exists(path + folder_names[i] + file):\n",
    "            shutil.move(path + file, path + folder_names[i] + \"/\" + file)\n",
    "            print( path + file + \" has been moved\")"
   ]
  },
  {
   "cell_type": "code",
   "execution_count": null,
   "id": "367f665d",
   "metadata": {},
   "outputs": [],
   "source": []
  }
 ],
 "metadata": {
  "kernelspec": {
   "display_name": "Python 3 (ipykernel)",
   "language": "python",
   "name": "python3"
  },
  "language_info": {
   "codemirror_mode": {
    "name": "ipython",
    "version": 3
   },
   "file_extension": ".py",
   "mimetype": "text/x-python",
   "name": "python",
   "nbconvert_exporter": "python",
   "pygments_lexer": "ipython3",
   "version": "3.10.9"
  }
 },
 "nbformat": 4,
 "nbformat_minor": 5
}
